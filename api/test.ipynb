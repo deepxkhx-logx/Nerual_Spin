{
 "cells": [
  {
   "cell_type": "code",
   "execution_count": 1,
   "metadata": {},
   "outputs": [
    {
     "name": "stderr",
     "output_type": "stream",
     "text": [
      "2024-07-18 07:25:52.426182: E external/local_xla/xla/stream_executor/cuda/cuda_fft.cc:485] Unable to register cuFFT factory: Attempting to register factory for plugin cuFFT when one has already been registered\n",
      "2024-07-18 07:25:53.178922: E external/local_xla/xla/stream_executor/cuda/cuda_dnn.cc:8454] Unable to register cuDNN factory: Attempting to register factory for plugin cuDNN when one has already been registered\n",
      "2024-07-18 07:25:53.371347: E external/local_xla/xla/stream_executor/cuda/cuda_blas.cc:1452] Unable to register cuBLAS factory: Attempting to register factory for plugin cuBLAS when one has already been registered\n",
      "2024-07-18 07:25:54.681990: I tensorflow/core/platform/cpu_feature_guard.cc:210] This TensorFlow binary is optimized to use available CPU instructions in performance-critical operations.\n",
      "To enable the following instructions: AVX2 FMA, in other operations, rebuild TensorFlow with the appropriate compiler flags.\n",
      "2024-07-18 07:26:00.800276: W tensorflow/compiler/tf2tensorrt/utils/py_utils.cc:38] TF-TRT Warning: Could not find TensorRT\n",
      "/home/codespace/.python/current/lib/python3.10/site-packages/tqdm/auto.py:21: TqdmWarning: IProgress not found. Please update jupyter and ipywidgets. See https://ipywidgets.readthedocs.io/en/stable/user_install.html\n",
      "  from .autonotebook import tqdm as notebook_tqdm\n"
     ]
    },
    {
     "name": "stdout",
     "output_type": "stream",
     "text": [
      "By using this model checkpoint, you acknowledge that its usage is subject to the terms of the CreativeML Open RAIL-M license at https://raw.githubusercontent.com/CompVis/stable-diffusion/main/LICENSE\n"
     ]
    }
   ],
   "source": [
    "import time\n",
    "import keras_cv\n",
    "from tensorflow import keras\n",
    "import matplotlib.pyplot as plt\n",
    "\n",
    "%matplotlib inline\n",
    "\n",
    "model = keras_cv.models.StableDiffusion(img_width=512, img_height=512)"
   ]
  },
  {
   "cell_type": "code",
   "execution_count": 2,
   "metadata": {},
   "outputs": [
    {
     "name": "stderr",
     "output_type": "stream",
     "text": [
      "2024-07-18 07:26:16.876099: W external/local_tsl/tsl/framework/cpu_allocator_impl.cc:83] Allocation of 151781376 exceeds 10% of free system memory.\n",
      "2024-07-18 07:26:17.174333: W external/local_tsl/tsl/framework/cpu_allocator_impl.cc:83] Allocation of 151781376 exceeds 10% of free system memory.\n",
      "2024-07-18 07:26:17.284704: W external/local_tsl/tsl/framework/cpu_allocator_impl.cc:83] Allocation of 151781376 exceeds 10% of free system memory.\n",
      "2024-07-18 07:26:25.242770: W external/local_tsl/tsl/framework/cpu_allocator_impl.cc:83] Allocation of 151781376 exceeds 10% of free system memory.\n",
      "WARNING: All log messages before absl::InitializeLog() is called are written to STDERR\n",
      "I0000 00:00:1721287587.535085    3089 service.cc:146] XLA service 0x77e600005b10 initialized for platform Host (this does not guarantee that XLA will be used). Devices:\n",
      "I0000 00:00:1721287587.535229    3089 service.cc:154]   StreamExecutor device (0): Host, Default Version\n",
      "2024-07-18 07:26:28.481198: I tensorflow/compiler/mlir/tensorflow/utils/dump_mlir_util.cc:268] disabling MLIR crash reproducer, set env var `MLIR_CRASH_REPRODUCER_DIRECTORY` to enable.\n",
      "I0000 00:00:1721287592.698613    3089 device_compiler.h:188] Compiled cluster using XLA!  This line is logged at most once for the lifetime of the process.\n",
      "W0000 00:00:1721287592.884400    3222 onednn_matmul.cc:322] [Perf]: MatMul reference implementation being executed\n",
      "W0000 00:00:1721287593.032370    3222 onednn_matmul.cc:322] [Perf]: MatMul reference implementation being executed\n",
      "W0000 00:00:1721287593.122294    3222 onednn_matmul.cc:322] [Perf]: MatMul reference implementation being executed\n",
      "W0000 00:00:1721287593.202744    3222 onednn_matmul.cc:322] [Perf]: MatMul reference implementation being executed\n",
      "W0000 00:00:1721287593.285539    3222 onednn_matmul.cc:322] [Perf]: MatMul reference implementation being executed\n",
      "W0000 00:00:1721287593.378110    3222 onednn_matmul.cc:322] [Perf]: MatMul reference implementation being executed\n",
      "W0000 00:00:1721287593.458929    3222 onednn_matmul.cc:322] [Perf]: MatMul reference implementation being executed\n",
      "W0000 00:00:1721287593.541623    3222 onednn_matmul.cc:322] [Perf]: MatMul reference implementation being executed\n",
      "W0000 00:00:1721287593.624313    3222 onednn_matmul.cc:322] [Perf]: MatMul reference implementation being executed\n",
      "W0000 00:00:1721287593.706422    3222 onednn_matmul.cc:322] [Perf]: MatMul reference implementation being executed\n",
      "W0000 00:00:1721287593.788390    3222 onednn_matmul.cc:322] [Perf]: MatMul reference implementation being executed\n",
      "W0000 00:00:1721287593.871404    3222 onednn_matmul.cc:322] [Perf]: MatMul reference implementation being executed\n",
      "W0000 00:00:1721287594.032483    3222 onednn_matmul.cc:322] [Perf]: MatMul reference implementation being executed\n",
      "W0000 00:00:1721287594.116689    3222 onednn_matmul.cc:322] [Perf]: MatMul reference implementation being executed\n",
      "W0000 00:00:1721287594.197361    3222 onednn_matmul.cc:322] [Perf]: MatMul reference implementation being executed\n",
      "W0000 00:00:1721287594.279538    3222 onednn_matmul.cc:322] [Perf]: MatMul reference implementation being executed\n",
      "W0000 00:00:1721287594.370158    3222 onednn_matmul.cc:322] [Perf]: MatMul reference implementation being executed\n",
      "W0000 00:00:1721287594.451234    3222 onednn_matmul.cc:322] [Perf]: MatMul reference implementation being executed\n",
      "W0000 00:00:1721287594.580573    3222 onednn_matmul.cc:322] [Perf]: MatMul reference implementation being executed\n",
      "W0000 00:00:1721287594.683465    3222 onednn_matmul.cc:322] [Perf]: MatMul reference implementation being executed\n",
      "W0000 00:00:1721287594.764778    3222 onednn_matmul.cc:322] [Perf]: MatMul reference implementation being executed\n",
      "W0000 00:00:1721287594.870452    3222 onednn_matmul.cc:322] [Perf]: MatMul reference implementation being executed\n",
      "W0000 00:00:1721287594.952222    3222 onednn_matmul.cc:322] [Perf]: MatMul reference implementation being executed\n",
      "W0000 00:00:1721287595.033030    3222 onednn_matmul.cc:322] [Perf]: MatMul reference implementation being executed\n",
      "2024-07-18 07:26:38.434579: W external/local_tsl/tsl/framework/cpu_allocator_impl.cc:83] Allocation of 29491200 exceeds 10% of free system memory.\n"
     ]
    },
    {
     "ename": "",
     "evalue": "",
     "output_type": "error",
     "traceback": [
      "\u001b[1;31mThe Kernel crashed while executing code in the current cell or a previous cell. \n",
      "\u001b[1;31mPlease review the code in the cell(s) to identify a possible cause of the failure. \n",
      "\u001b[1;31mClick <a href='https://aka.ms/vscodeJupyterKernelCrash'>here</a> for more info. \n",
      "\u001b[1;31mView Jupyter <a href='command:jupyter.viewOutput'>log</a> for further details."
     ]
    }
   ],
   "source": [
    "def plot_images(images):\n",
    "    plt.figure(figsize=(20, 20))\n",
    "    for i in range(len(images)):\n",
    "        ax = plt.subplot(1, len(images), i + 1)\n",
    "        plt.imshow(images[i])\n",
    "        plt.axis(\"off\")\n",
    "\n",
    "images = model.text_to_image(\n",
    "    \"cute magical flying dog, fantasy art, \"\n",
    "    \"golden color, high quality, highly detailed, elegant, sharp focus, \"\n",
    "    \"concept art, character concepts, digital painting, mystery, adventure\",\n",
    "    batch_size=3,\n",
    ")\n",
    "plot_images(images)"
   ]
  }
 ],
 "metadata": {
  "kernelspec": {
   "display_name": "Python 3",
   "language": "python",
   "name": "python3"
  },
  "language_info": {
   "codemirror_mode": {
    "name": "ipython",
    "version": 3
   },
   "file_extension": ".py",
   "mimetype": "text/x-python",
   "name": "python",
   "nbconvert_exporter": "python",
   "pygments_lexer": "ipython3",
   "version": "3.10.13"
  }
 },
 "nbformat": 4,
 "nbformat_minor": 2
}
